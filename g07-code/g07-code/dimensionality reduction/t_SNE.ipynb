{
  "nbformat": 4,
  "nbformat_minor": 0,
  "metadata": {
    "colab": {
      "name": "t-SNE.ipynb",
      "provenance": [],
      "collapsed_sections": []
    },
    "kernelspec": {
      "name": "python3",
      "display_name": "Python 3"
    }
  },
  "cells": [
    {
      "cell_type": "code",
      "metadata": {
        "id": "UN3XU5_vO6kX"
      },
      "source": [
        "import numpy as np\n",
        "import matplotlib.pyplot as plt\n",
        "import pandas as pd\n",
        "import tensorflow as tf\n",
        "import csv\n",
        "from sklearn.manifold import TSNE"
      ],
      "execution_count": null,
      "outputs": []
    },
    {
      "cell_type": "code",
      "metadata": {
        "id": "SFeXLFluo1rF"
      },
      "source": [
        "dataset = pd.read_csv('traindata-X-01-12.csv')\n",
        "X=dataset.iloc[:,:-1].values\n"
      ],
      "execution_count": null,
      "outputs": []
    },
    {
      "cell_type": "code",
      "metadata": {
        "colab": {
          "base_uri": "https://localhost:8080/"
        },
        "id": "07VCnxYysKCB",
        "outputId": "687ee872-e2b9-437d-e586-058cede5dc2c"
      },
      "source": [
        "print(len(X))\n",
        "print(len(X[0]))\n",
        "print(X.shape)\n",
        "print(X)\n"
      ],
      "execution_count": null,
      "outputs": [
        {
          "output_type": "stream",
          "text": [
            "1464\n",
            "3150\n",
            "(1464, 3150)\n",
            "[[ 3.0155000e+02  1.0100000e+05  7.1000000e+01 ...  6.0400085e+00\n",
            "  -4.0200043e+00  9.0000916e-01]\n",
            " [ 3.0172000e+02  1.0104000e+05  7.0750000e+01 ...  4.6499940e+00\n",
            "  -2.5899963e+00  2.9000092e+00]\n",
            " [ 3.0012000e+02  1.0108000e+05  8.0490005e+01 ...  2.8999940e+00\n",
            "  -1.6699982e+00  4.6699980e+00]\n",
            " ...\n",
            " [ 2.9972000e+02  1.0120000e+05  7.9750000e+01 ...  7.1799927e+00\n",
            "   1.3000488e-01  1.5500030e+00]\n",
            " [ 3.0015002e+02  1.0116000e+05  8.1250000e+01 ...  4.6499940e+00\n",
            "   2.9499970e+00 -1.4999390e-01]\n",
            " [ 3.0080000e+02  1.0133000e+05  7.3750000e+01 ...  4.8200073e+00\n",
            "  -3.3000030e+00  2.5500030e+00]]\n"
          ],
          "name": "stdout"
        }
      ]
    },
    {
      "cell_type": "code",
      "metadata": {
        "colab": {
          "base_uri": "https://localhost:8080/"
        },
        "id": "jwdkg2NYw9fP",
        "outputId": "b647a2b4-cebd-494e-a2f8-4360cf40b826"
      },
      "source": [
        "X_normal=(X-X.min())/(X.max()-X.min())\n",
        "print(X_normal)"
      ],
      "execution_count": null,
      "outputs": [
        {
          "output_type": "stream",
          "text": [
            "[[3.06168240e-03 9.81347199e-01 8.21888975e-04 ... 1.90802610e-04\n",
            "  9.30695779e-05 1.40867512e-04]\n",
            " [3.06333395e-03 9.81735799e-01 8.19460225e-04 ... 1.77298618e-04\n",
            "  1.06962107e-04 1.60297514e-04]\n",
            " [3.04778994e-03 9.82124399e-01 9.14084381e-04 ... 1.60297366e-04\n",
            "  1.15899889e-04 1.77492957e-04]\n",
            " ...\n",
            " [3.04390394e-03 9.83290199e-01 9.06895232e-04 ... 2.01877557e-04\n",
            "  1.33386920e-04 1.47182203e-04]\n",
            " [3.04808159e-03 9.82901599e-01 9.21467733e-04 ... 1.77298618e-04\n",
            "  1.60783146e-04 1.30666732e-04]\n",
            " [3.05439614e-03 9.84553149e-01 8.48605227e-04 ... 1.78950297e-04\n",
            "  1.00064391e-04 1.56897204e-04]]\n"
          ],
          "name": "stdout"
        }
      ]
    },
    {
      "cell_type": "code",
      "metadata": {
        "id": "uAC_HiyjsN9N"
      },
      "source": [
        "from sklearn.datasets import load_digits\n",
        "from sklearn.decomposition import KernelPCA\n",
        "\n",
        "X_transformed = TSNE().fit_transform(X)\n",
        "\n",
        "#transformer = KernelPCA(kernel='rbf')\n",
        "#X_transformed = transformer.fit_transform(X_normal)\n",
        "#X_transformed.shape\n"
      ],
      "execution_count": null,
      "outputs": []
    },
    {
      "cell_type": "code",
      "metadata": {
        "colab": {
          "base_uri": "https://localhost:8080/"
        },
        "id": "9Eic7zYItW9v",
        "outputId": "85c4530e-ccae-47f8-f8ef-673fccca2269"
      },
      "source": [
        "print(X_transformed.shape)\n",
        "print(X_transformed)"
      ],
      "execution_count": null,
      "outputs": [
        {
          "output_type": "stream",
          "text": [
            "(1464, 2)\n",
            "[[ 12.42789   -18.178608 ]\n",
            " [ 12.438008  -17.383266 ]\n",
            " [ 12.330803  -16.45108  ]\n",
            " ...\n",
            " [-64.07654    -8.822919 ]\n",
            " [-75.60946     2.9678688]\n",
            " [-78.97665     5.203747 ]]\n"
          ],
          "name": "stdout"
        }
      ]
    },
    {
      "cell_type": "code",
      "metadata": {
        "id": "McnptU8nvRcx"
      },
      "source": [
        "np.savetxt(\"X_t-SNE.csv\", X_transformed, delimiter=\",\")"
      ],
      "execution_count": null,
      "outputs": []
    },
    {
      "cell_type": "code",
      "metadata": {
        "id": "EdZvt7uvvxwP"
      },
      "source": [
        ""
      ],
      "execution_count": null,
      "outputs": []
    }
  ]
}