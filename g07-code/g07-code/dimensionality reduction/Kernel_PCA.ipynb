{
  "nbformat": 4,
  "nbformat_minor": 0,
  "metadata": {
    "colab": {
      "name": "Kernel_PCA.ipynb",
      "provenance": []
    },
    "kernelspec": {
      "name": "python3",
      "display_name": "Python 3"
    }
  },
  "cells": [
    {
      "cell_type": "code",
      "metadata": {
        "id": "UN3XU5_vO6kX"
      },
      "source": [
        "import numpy as np\n",
        "import matplotlib.pyplot as plt\n",
        "import pandas as pd\n",
        "import tensorflow as tf\n",
        "import csv"
      ],
      "execution_count": null,
      "outputs": []
    },
    {
      "cell_type": "code",
      "metadata": {
        "id": "SFeXLFluo1rF"
      },
      "source": [
        "dataset = pd.read_csv('traindata-X-01-12.csv')\n",
        "X=dataset.iloc[:,:-1].values\n"
      ],
      "execution_count": null,
      "outputs": []
    },
    {
      "cell_type": "code",
      "metadata": {
        "colab": {
          "base_uri": "https://localhost:8080/"
        },
        "id": "07VCnxYysKCB",
        "outputId": "b37ad84c-2438-4187-9553-61333a2958d0"
      },
      "source": [
        "print(len(X))\n",
        "print(len(X[0]))\n",
        "print(X.shape)\n",
        "print(X)\n"
      ],
      "execution_count": null,
      "outputs": [
        {
          "output_type": "stream",
          "text": [
            "1464\n",
            "3150\n",
            "(1464, 3150)\n",
            "[[ 3.0155000e+02  1.0100000e+05  7.1000000e+01 ...  6.0400085e+00\n",
            "  -4.0200043e+00  9.0000916e-01]\n",
            " [ 3.0172000e+02  1.0104000e+05  7.0750000e+01 ...  4.6499940e+00\n",
            "  -2.5899963e+00  2.9000092e+00]\n",
            " [ 3.0012000e+02  1.0108000e+05  8.0490005e+01 ...  2.8999940e+00\n",
            "  -1.6699982e+00  4.6699980e+00]\n",
            " ...\n",
            " [ 2.9972000e+02  1.0120000e+05  7.9750000e+01 ...  7.1799927e+00\n",
            "   1.3000488e-01  1.5500030e+00]\n",
            " [ 3.0015002e+02  1.0116000e+05  8.1250000e+01 ...  4.6499940e+00\n",
            "   2.9499970e+00 -1.4999390e-01]\n",
            " [ 3.0080000e+02  1.0133000e+05  7.3750000e+01 ...  4.8200073e+00\n",
            "  -3.3000030e+00  2.5500030e+00]]\n"
          ],
          "name": "stdout"
        }
      ]
    },
    {
      "cell_type": "code",
      "metadata": {
        "colab": {
          "base_uri": "https://localhost:8080/"
        },
        "id": "jwdkg2NYw9fP",
        "outputId": "943da1e4-167a-48e8-8ac8-640a52097ffe"
      },
      "source": [
        "X_normal=(X-X.min())/(X.max()-X.min())\n",
        "print(X_normal)"
      ],
      "execution_count": null,
      "outputs": [
        {
          "output_type": "stream",
          "text": [
            "[[3.06168240e-03 9.81347199e-01 8.21888975e-04 ... 1.90802610e-04\n",
            "  9.30695779e-05 1.40867512e-04]\n",
            " [3.06333395e-03 9.81735799e-01 8.19460225e-04 ... 1.77298618e-04\n",
            "  1.06962107e-04 1.60297514e-04]\n",
            " [3.04778994e-03 9.82124399e-01 9.14084381e-04 ... 1.60297366e-04\n",
            "  1.15899889e-04 1.77492957e-04]\n",
            " ...\n",
            " [3.04390394e-03 9.83290199e-01 9.06895232e-04 ... 2.01877557e-04\n",
            "  1.33386920e-04 1.47182203e-04]\n",
            " [3.04808159e-03 9.82901599e-01 9.21467733e-04 ... 1.77298618e-04\n",
            "  1.60783146e-04 1.30666732e-04]\n",
            " [3.05439614e-03 9.84553149e-01 8.48605227e-04 ... 1.78950297e-04\n",
            "  1.00064391e-04 1.56897204e-04]]\n"
          ],
          "name": "stdout"
        }
      ]
    },
    {
      "cell_type": "code",
      "metadata": {
        "colab": {
          "base_uri": "https://localhost:8080/",
          "height": 214
        },
        "id": "uAC_HiyjsN9N",
        "outputId": "d673e35a-3d89-489d-c694-3642d528109a"
      },
      "source": [
        "from sklearn.datasets import load_digits\n",
        "from sklearn.decomposition import KernelPCA\n",
        "\n",
        "\n",
        "transformer = KernelPCA(kernel='rbf')\n",
        "X_transformed = transformer.fit_transform(X_normal)\n",
        "X_transformed.shape\n"
      ],
      "execution_count": null,
      "outputs": [
        {
          "output_type": "error",
          "ename": "NameError",
          "evalue": "ignored",
          "traceback": [
            "\u001b[0;31m---------------------------------------------------------------------------\u001b[0m",
            "\u001b[0;31mNameError\u001b[0m                                 Traceback (most recent call last)",
            "\u001b[0;32m<ipython-input-2-968e98d26ec5>\u001b[0m in \u001b[0;36m<module>\u001b[0;34m()\u001b[0m\n\u001b[1;32m      4\u001b[0m \u001b[0;34m\u001b[0m\u001b[0m\n\u001b[1;32m      5\u001b[0m \u001b[0mtransformer\u001b[0m \u001b[0;34m=\u001b[0m \u001b[0mKernelPCA\u001b[0m\u001b[0;34m(\u001b[0m\u001b[0mkernel\u001b[0m\u001b[0;34m=\u001b[0m\u001b[0;34m'rbf'\u001b[0m\u001b[0;34m)\u001b[0m\u001b[0;34m\u001b[0m\u001b[0;34m\u001b[0m\u001b[0m\n\u001b[0;32m----> 6\u001b[0;31m \u001b[0mX_transformed\u001b[0m \u001b[0;34m=\u001b[0m \u001b[0mtransformer\u001b[0m\u001b[0;34m.\u001b[0m\u001b[0mfit_transform\u001b[0m\u001b[0;34m(\u001b[0m\u001b[0mX_normal\u001b[0m\u001b[0;34m)\u001b[0m\u001b[0;34m\u001b[0m\u001b[0;34m\u001b[0m\u001b[0m\n\u001b[0m\u001b[1;32m      7\u001b[0m \u001b[0mX_transformed\u001b[0m\u001b[0;34m.\u001b[0m\u001b[0mshape\u001b[0m\u001b[0;34m\u001b[0m\u001b[0;34m\u001b[0m\u001b[0m\n",
            "\u001b[0;31mNameError\u001b[0m: name 'X_normal' is not defined"
          ]
        }
      ]
    },
    {
      "cell_type": "code",
      "metadata": {
        "colab": {
          "base_uri": "https://localhost:8080/"
        },
        "id": "9Eic7zYItW9v",
        "outputId": "dda88667-f096-444a-8b5a-f5898e9c8234"
      },
      "source": [
        "print(X_transformed)"
      ],
      "execution_count": null,
      "outputs": [
        {
          "output_type": "stream",
          "text": [
            "[[-6.13982173e-04 -1.75409400e-05  3.84679744e-04 ...  2.47898122e-09\n",
            "  -5.72162115e-09 -3.28513718e-08]\n",
            " [-6.07305128e-04 -1.86018053e-04  4.49561758e-04 ... -1.33808054e-08\n",
            "  -4.17536676e-08 -2.45826055e-08]\n",
            " [-5.67743673e-04 -1.43118448e-04  5.01928188e-04 ...  3.37701326e-08\n",
            "   3.99107251e-08  3.67790371e-08]\n",
            " ...\n",
            " [ 1.41545345e-03 -4.00224010e-04  4.27765068e-04 ... -1.80950010e-08\n",
            "  -8.61947548e-09 -2.01491531e-08]\n",
            " [ 2.19526775e-03 -1.47147494e-04  2.63912453e-04 ...  3.13402989e-09\n",
            "   3.49053880e-08  1.38271050e-08]\n",
            " [ 2.86035694e-03  1.34848356e-06  1.77955516e-04 ...  1.54156139e-08\n",
            "  -3.02703512e-08  9.66919555e-09]]\n"
          ],
          "name": "stdout"
        }
      ]
    },
    {
      "cell_type": "code",
      "metadata": {
        "id": "McnptU8nvRcx"
      },
      "source": [
        "np.savetxt(\"X_pca_kernel.csv\", X_transformed, delimiter=\",\")"
      ],
      "execution_count": null,
      "outputs": []
    },
    {
      "cell_type": "code",
      "metadata": {
        "id": "EdZvt7uvvxwP"
      },
      "source": [
        ""
      ],
      "execution_count": null,
      "outputs": []
    }
  ]
}