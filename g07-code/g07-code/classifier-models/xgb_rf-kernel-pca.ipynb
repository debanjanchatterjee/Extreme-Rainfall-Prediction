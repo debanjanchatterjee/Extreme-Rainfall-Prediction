{
 "cells": [
  {
   "cell_type": "code",
   "execution_count": 3,
   "metadata": {},
   "outputs": [],
   "source": [
    "import numpy as np\n",
    "import matplotlib.pyplot as plt\n",
    "import pandas as pd\n",
    "import tensorflow as tf\n",
    "import csv\n",
    "tf.compat.v1.set_random_seed(7)"
   ]
  },
  {
   "cell_type": "code",
   "execution_count": 4,
   "metadata": {},
   "outputs": [],
   "source": [
    "#dataset = pd.read_csv('X_trainData_1.csv')\n",
    "#labels=pd.read_csv('Y_trainData_1.csv')\n",
    "dataset = pd.read_csv('X_24hrs.csv')\n",
    "datalabels = pd.read_csv('y_mumbai.csv')\n",
    "#datalabels=pd.read_csv('2005-2008_yvalue_mumbai.csv')\n",
    "\n",
    "\n",
    "#X_train=dataset.iloc[:,:].values\n",
    "\n",
    "X=dataset.iloc[:,1:].values\n",
    "y=datalabels.iloc[:,1:].values\n",
    "#y_train=datalabels.iloc[:,-1].values\n",
    "#y=datalabels.iloc[:,-1].values"
   ]
  },
  {
   "cell_type": "code",
   "execution_count": 5,
   "metadata": {},
   "outputs": [
    {
     "name": "stdout",
     "output_type": "stream",
     "text": [
      "(2440, 9900)\n",
      "[[300.87     292.05     276.39     ...  20.        28.75      35.25    ]\n",
      " [300.47     291.72     275.92     ...  28.25      70.250015  59.000015]\n",
      " [300.99     290.92     276.07     ...  26.75      65.500015  47.750015]\n",
      " ...\n",
      " [300.07498  290.55     275.35     ...  46.5       61.5       48.25    ]\n",
      " [300.14996  290.9      275.575    ...  47.25      62.        22.      ]\n",
      " [300.5      290.8      275.77496  ...  32.75      66.5       19.      ]]\n"
     ]
    }
   ],
   "source": [
    "print(X.shape)\n",
    "print(X)"
   ]
  },
  {
   "cell_type": "code",
   "execution_count": 6,
   "metadata": {},
   "outputs": [
    {
     "name": "stdout",
     "output_type": "stream",
     "text": [
      "(2440, 1)\n",
      "[[ 0.        ]\n",
      " [19.535807  ]\n",
      " [ 0.        ]\n",
      " ...\n",
      " [ 1.0364816 ]\n",
      " [ 0.18965113]\n",
      " [ 0.18965113]]\n"
     ]
    }
   ],
   "source": [
    "print(y.shape)\n",
    "print(y)"
   ]
  },
  {
   "cell_type": "code",
   "execution_count": 7,
   "metadata": {},
   "outputs": [
    {
     "name": "stdout",
     "output_type": "stream",
     "text": [
      "18.48259008901639\n",
      "29.95223440768119\n"
     ]
    }
   ],
   "source": [
    "print(y.mean())\n",
    "print(y.std())\n",
    "mean_rf=y.mean()\n",
    "std_rf=y.std()\n",
    "thr=mean_rf+std_rf"
   ]
  },
  {
   "cell_type": "code",
   "execution_count": 8,
   "metadata": {},
   "outputs": [
    {
     "name": "stdout",
     "output_type": "stream",
     "text": [
      "268\n",
      "[[0.]\n",
      " [0.]\n",
      " [0.]\n",
      " ...\n",
      " [0.]\n",
      " [0.]\n",
      " [0.]]\n"
     ]
    }
   ],
   "source": [
    "count=0\n",
    "for i in range(0, len(y)):\n",
    "\n",
    "  if y[i]>thr:\n",
    "    y[i]=1\n",
    "    count=count+1\n",
    "  else:\n",
    "    y[i]=0\n",
    "print(count)\n",
    "print(y)\n"
   ]
  },
  {
   "cell_type": "code",
   "execution_count": 17,
   "metadata": {},
   "outputs": [],
   "source": [
    "from sklearn.preprocessing import StandardScaler\n",
    "sc = StandardScaler()\n",
    "\n",
    "X[:, :] = sc.fit_transform(X[:, :])\n"
   ]
  },
  {
   "cell_type": "code",
   "execution_count": 18,
   "metadata": {},
   "outputs": [
    {
     "data": {
      "text/plain": [
       "(2440, 2439)"
      ]
     },
     "execution_count": 18,
     "metadata": {},
     "output_type": "execute_result"
    }
   ],
   "source": [
    "from sklearn.datasets import load_digits\n",
    "from sklearn.decomposition import KernelPCA\n",
    "\n",
    "\n",
    "transformer = KernelPCA(kernel='rbf')\n",
    "X = transformer.fit_transform(X)\n",
    "X.shape\n",
    "\n"
   ]
  },
  {
   "cell_type": "code",
   "execution_count": null,
   "metadata": {},
   "outputs": [],
   "source": []
  },
  {
   "cell_type": "code",
   "execution_count": 19,
   "metadata": {},
   "outputs": [],
   "source": [
    "from sklearn.model_selection import train_test_split\n",
    "X_train, X_test, y_train, y_test = train_test_split(X, y, test_size = 0.2, random_state = 0)"
   ]
  },
  {
   "cell_type": "code",
   "execution_count": 20,
   "metadata": {},
   "outputs": [
    {
     "data": {
      "text/plain": [
       "XGBClassifier(scale_pos_weight=10)"
      ]
     },
     "execution_count": 20,
     "metadata": {},
     "output_type": "execute_result"
    }
   ],
   "source": [
    "from xgboost import XGBClassifier\n",
    "#classifier = XGBClassifier(scale_pos_weight=20)\n",
    "classifier = XGBClassifier(scale_pos_weight=10)\n",
    "classifier.fit(X_train, y_train.ravel())"
   ]
  },
  {
   "cell_type": "code",
   "execution_count": 21,
   "metadata": {},
   "outputs": [
    {
     "name": "stdout",
     "output_type": "stream",
     "text": [
      "[[416  12]\n",
      " [ 59   1]]\n"
     ]
    },
    {
     "data": {
      "text/plain": [
       "0.8545081967213115"
      ]
     },
     "execution_count": 21,
     "metadata": {},
     "output_type": "execute_result"
    }
   ],
   "source": [
    "from sklearn.metrics import confusion_matrix, accuracy_score\n",
    "y_pred = classifier.predict(X_test)\n",
    "cm = confusion_matrix(y_test, y_pred)\n",
    "print(cm)\n",
    "accuracy_score(y_test, y_pred)"
   ]
  },
  {
   "cell_type": "code",
   "execution_count": 22,
   "metadata": {},
   "outputs": [],
   "source": [
    "precision=cm[1][1]/(cm[1][1]+cm[0][1])\n",
    "recall=cm[1][1]/(cm[1][1]+cm[1][0])"
   ]
  },
  {
   "cell_type": "code",
   "execution_count": 25,
   "metadata": {},
   "outputs": [
    {
     "name": "stdout",
     "output_type": "stream",
     "text": [
      "Accuracy- 0.8545081967213115\n",
      "Precision- 0.07692307692307693\n",
      "Recall- 0.016666666666666666\n",
      "ROC_AUC score- 0.49431464174454826\n",
      "F1-score- 0.0273972602739726\n"
     ]
    }
   ],
   "source": [
    "from sklearn.metrics import precision_score\n",
    "from sklearn.metrics import recall_score\n",
    "from sklearn.metrics import roc_auc_score\n",
    "from sklearn.metrics import f1_score\n",
    "print('Accuracy- '+str(accuracy_score(y_test, y_pred)))\n",
    "print('Precision- '+str(precision_score(y_test,y_pred)))\n",
    "print('Recall- '+str(recall_score(y_test, y_pred)))\n",
    "print(\"ROC_AUC score- \"+str(roc_auc_score(y_test, y_pred)))\n",
    "print('F1-score- '+str(f1_score(y_test, y_pred)))"
   ]
  },
  {
   "cell_type": "code",
   "execution_count": null,
   "metadata": {},
   "outputs": [],
   "source": [
    "import seaborn as sn\n",
    "\n",
    "\n",
    "df = pd.DataFrame(cm, index = ['Non Extreme Rainfall', 'Extreme  Rainfall'], columns = ['Non Extreme Rainfall', 'Extreme  Rainfall'])\n",
    "\n",
    "# Plot the heatmap\n",
    "sn.heatmap(df, annot=True, cmap='Blues', fmt='g')\n",
    "plt.xlabel('Predicted')\n",
    "plt.ylabel('Actual')\n",
    "plt.show()"
   ]
  },
  {
   "cell_type": "code",
   "execution_count": null,
   "metadata": {},
   "outputs": [],
   "source": []
  }
 ],
 "metadata": {
  "kernelspec": {
   "display_name": "Python 3.7 (tensorflow)",
   "language": "python",
   "name": "tensorflow"
  },
  "language_info": {
   "codemirror_mode": {
    "name": "ipython",
    "version": 3
   },
   "file_extension": ".py",
   "mimetype": "text/x-python",
   "name": "python",
   "nbconvert_exporter": "python",
   "pygments_lexer": "ipython3",
   "version": "3.7.9"
  }
 },
 "nbformat": 4,
 "nbformat_minor": 4
}
